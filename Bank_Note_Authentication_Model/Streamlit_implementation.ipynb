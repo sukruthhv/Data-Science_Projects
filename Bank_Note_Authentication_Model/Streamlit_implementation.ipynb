{
 "cells": [
  {
   "cell_type": "code",
   "execution_count": 1,
   "metadata": {},
   "outputs": [],
   "source": [
    "import pandas as pd\n",
    "import numpy as np\n",
    "import pickle\n",
    "import streamlit as st\n"
   ]
  },
  {
   "cell_type": "code",
   "execution_count": 2,
   "metadata": {},
   "outputs": [],
   "source": [
    "#!pip install streamlit"
   ]
  },
  {
   "cell_type": "code",
   "execution_count": 3,
   "metadata": {},
   "outputs": [
    {
     "ename": "UnboundLocalError",
     "evalue": "local variable 'result' referenced before assignment",
     "output_type": "error",
     "traceback": [
      "\u001b[0;31m---------------------------------------------------------------------------\u001b[0m",
      "\u001b[0;31mUnboundLocalError\u001b[0m                         Traceback (most recent call last)",
      "\u001b[0;32m<ipython-input-3-010268908053>\u001b[0m in \u001b[0;36m<module>\u001b[0;34m\u001b[0m\n\u001b[1;32m     71\u001b[0m \u001b[0;34m\u001b[0m\u001b[0m\n\u001b[1;32m     72\u001b[0m \u001b[0;32mif\u001b[0m \u001b[0m__name__\u001b[0m \u001b[0;34m==\u001b[0m \u001b[0;34m\"__main__\"\u001b[0m\u001b[0;34m:\u001b[0m\u001b[0;34m\u001b[0m\u001b[0;34m\u001b[0m\u001b[0m\n\u001b[0;32m---> 73\u001b[0;31m     \u001b[0mmain\u001b[0m\u001b[0;34m(\u001b[0m\u001b[0;34m)\u001b[0m\u001b[0;34m\u001b[0m\u001b[0;34m\u001b[0m\u001b[0m\n\u001b[0m",
      "\u001b[0;32m<ipython-input-3-010268908053>\u001b[0m in \u001b[0;36mmain\u001b[0;34m()\u001b[0m\n\u001b[1;32m     61\u001b[0m         \u001b[0mresult\u001b[0m\u001b[0;34m=\u001b[0m\u001b[0mpredict_note\u001b[0m\u001b[0;34m(\u001b[0m\u001b[0mvariance\u001b[0m\u001b[0;34m,\u001b[0m\u001b[0mskewness\u001b[0m\u001b[0;34m,\u001b[0m\u001b[0mcurtosis\u001b[0m\u001b[0;34m,\u001b[0m\u001b[0mentropy\u001b[0m\u001b[0;34m)\u001b[0m\u001b[0;34m\u001b[0m\u001b[0;34m\u001b[0m\u001b[0m\n\u001b[1;32m     62\u001b[0m \u001b[0;34m\u001b[0m\u001b[0m\n\u001b[0;32m---> 63\u001b[0;31m     \u001b[0;32mif\u001b[0m \u001b[0mresult\u001b[0m \u001b[0;34m==\u001b[0m \u001b[0;36m0\u001b[0m \u001b[0;34m:\u001b[0m\u001b[0;34m\u001b[0m\u001b[0;34m\u001b[0m\u001b[0m\n\u001b[0m\u001b[1;32m     64\u001b[0m         \u001b[0mst\u001b[0m\u001b[0;34m.\u001b[0m\u001b[0msuccess\u001b[0m\u001b[0;34m(\u001b[0m\u001b[0;34m'The note is void!!!'\u001b[0m\u001b[0;34m)\u001b[0m\u001b[0;34m\u001b[0m\u001b[0;34m\u001b[0m\u001b[0m\n\u001b[1;32m     65\u001b[0m     \u001b[0;32melse\u001b[0m\u001b[0;34m:\u001b[0m\u001b[0;34m\u001b[0m\u001b[0;34m\u001b[0m\u001b[0m\n",
      "\u001b[0;31mUnboundLocalError\u001b[0m: local variable 'result' referenced before assignment"
     ]
    }
   ],
   "source": [
    "pickle_file=open('Bank_Note_Auth_Model_class.pkl','rb')\n",
    "\n",
    "classifier = pickle.load(pickle_file)\n",
    "\n",
    "def predict_note(variance,skewness,curtosis,entropy):\n",
    "    \n",
    "    \"\"\" Let's authenticate the Bank Notes using this prediction Model\n",
    "    \n",
    "    ---\n",
    "    parameters:\n",
    "    - name: variance\n",
    "      in: query\n",
    "      type: number\n",
    "      required: true\n",
    "      \n",
    "    - name: skewness\n",
    "      in: query\n",
    "      type: number\n",
    "      required: true\n",
    "      \n",
    "    - name: curtosis\n",
    "      in: query\n",
    "      type: number\n",
    "      required: true\n",
    "      \n",
    "    - name: entropy\n",
    "      in: query\n",
    "      type: number\n",
    "      required: true\n",
    "    \n",
    "    responses:\n",
    "        200:\n",
    "            description: The output values\n",
    "    \"\"\"\n",
    "    \n",
    "    #variance = request.args.get('variance')\n",
    "    #skewness = request.args.get('skewness')\n",
    "    #curtosis = request.args.get('curtosis')\n",
    "    #entropy = request.args.get('entropy')\n",
    "    \n",
    "    prediction=classifier.predict([[variance,skewness,curtosis,entropy]])\n",
    "    return \"The predicted value is : \" + str(prediction)\n",
    "\n",
    "def main():\n",
    "    st.title(\"Bank Note Authentication model\")\n",
    "    \n",
    "    html_decorator = \"\"\"\n",
    "    <div style=background-color:blue; padding:10px\">\n",
    "    <h2 style=\"color:white;text-align:center;\"> Streamlit Bank Authentication Model </h2>\n",
    "    </div>\n",
    "    \"\"\"\n",
    "\n",
    "    st.markdown(html_decorator,unsafe_allow_html=True)\n",
    "    variance=st.text_input(\"Variance\",\"Type Here\")\n",
    "    skewness=st.text_input(\"skewness\",\"Type Here\")\n",
    "    curtosis=st.text_input(\"curtosis\",\"Type Here\")\n",
    "    entropy=st.text_input(\"entropy\",\"Type Here\")\n",
    "    \n",
    "     \n",
    "    if st.button(\"Predict\"):\n",
    "        result=predict_note(variance,skewness,curtosis,entropy)\n",
    "    \n",
    "    if result == 0 :\n",
    "        st.success('The note is void!!!')\n",
    "    else:\n",
    "        st.success('The note is VALID!!!')\n",
    "    \n",
    "    if st.button(\"About\"):\n",
    "        st.text(\"This is the Bank AUthentication Model!!!\")\n",
    "        \n",
    "    \n",
    "if __name__ == \"__main__\":\n",
    "    main()"
   ]
  },
  {
   "cell_type": "markdown",
   "metadata": {},
   "source": [
    "### Since the above implementation was in swagger, we can use the following url to open the swagger UI in browser : http://127.0.0.1:5000/apidocs/ \n"
   ]
  },
  {
   "cell_type": "code",
   "execution_count": null,
   "metadata": {},
   "outputs": [],
   "source": [
    "#!pip install flasgger"
   ]
  },
  {
   "cell_type": "code",
   "execution_count": null,
   "metadata": {},
   "outputs": [],
   "source": [
    "#!pip freeze > requirements.txt"
   ]
  },
  {
   "cell_type": "code",
   "execution_count": null,
   "metadata": {},
   "outputs": [],
   "source": []
  }
 ],
 "metadata": {
  "kernelspec": {
   "display_name": "Python 3",
   "language": "python",
   "name": "python3"
  },
  "language_info": {
   "codemirror_mode": {
    "name": "ipython",
    "version": 3
   },
   "file_extension": ".py",
   "mimetype": "text/x-python",
   "name": "python",
   "nbconvert_exporter": "python",
   "pygments_lexer": "ipython3",
   "version": "3.6.10"
  }
 },
 "nbformat": 4,
 "nbformat_minor": 4
}
