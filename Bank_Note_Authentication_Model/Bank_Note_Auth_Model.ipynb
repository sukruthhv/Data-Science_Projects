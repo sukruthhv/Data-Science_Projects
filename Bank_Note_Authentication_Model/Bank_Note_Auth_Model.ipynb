{
 "cells": [
  {
   "cell_type": "code",
   "execution_count": 112,
   "metadata": {},
   "outputs": [],
   "source": [
    "import pandas as pd\n",
    "import numpy as np"
   ]
  },
  {
   "cell_type": "code",
   "execution_count": 113,
   "metadata": {},
   "outputs": [
    {
     "data": {
      "text/html": [
       "<div>\n",
       "<style scoped>\n",
       "    .dataframe tbody tr th:only-of-type {\n",
       "        vertical-align: middle;\n",
       "    }\n",
       "\n",
       "    .dataframe tbody tr th {\n",
       "        vertical-align: top;\n",
       "    }\n",
       "\n",
       "    .dataframe thead th {\n",
       "        text-align: right;\n",
       "    }\n",
       "</style>\n",
       "<table border=\"1\" class=\"dataframe\">\n",
       "  <thead>\n",
       "    <tr style=\"text-align: right;\">\n",
       "      <th></th>\n",
       "      <th>variance</th>\n",
       "      <th>skewness</th>\n",
       "      <th>curtosis</th>\n",
       "      <th>entropy</th>\n",
       "      <th>class</th>\n",
       "    </tr>\n",
       "  </thead>\n",
       "  <tbody>\n",
       "    <tr>\n",
       "      <th>0</th>\n",
       "      <td>3.62160</td>\n",
       "      <td>8.6661</td>\n",
       "      <td>-2.8073</td>\n",
       "      <td>-0.44699</td>\n",
       "      <td>0</td>\n",
       "    </tr>\n",
       "    <tr>\n",
       "      <th>1</th>\n",
       "      <td>4.54590</td>\n",
       "      <td>8.1674</td>\n",
       "      <td>-2.4586</td>\n",
       "      <td>-1.46210</td>\n",
       "      <td>0</td>\n",
       "    </tr>\n",
       "    <tr>\n",
       "      <th>2</th>\n",
       "      <td>3.86600</td>\n",
       "      <td>-2.6383</td>\n",
       "      <td>1.9242</td>\n",
       "      <td>0.10645</td>\n",
       "      <td>0</td>\n",
       "    </tr>\n",
       "    <tr>\n",
       "      <th>3</th>\n",
       "      <td>3.45660</td>\n",
       "      <td>9.5228</td>\n",
       "      <td>-4.0112</td>\n",
       "      <td>-3.59440</td>\n",
       "      <td>0</td>\n",
       "    </tr>\n",
       "    <tr>\n",
       "      <th>4</th>\n",
       "      <td>0.32924</td>\n",
       "      <td>-4.4552</td>\n",
       "      <td>4.5718</td>\n",
       "      <td>-0.98880</td>\n",
       "      <td>0</td>\n",
       "    </tr>\n",
       "  </tbody>\n",
       "</table>\n",
       "</div>"
      ],
      "text/plain": [
       "   variance  skewness  curtosis  entropy  class\n",
       "0   3.62160    8.6661   -2.8073 -0.44699      0\n",
       "1   4.54590    8.1674   -2.4586 -1.46210      0\n",
       "2   3.86600   -2.6383    1.9242  0.10645      0\n",
       "3   3.45660    9.5228   -4.0112 -3.59440      0\n",
       "4   0.32924   -4.4552    4.5718 -0.98880      0"
      ]
     },
     "execution_count": 113,
     "metadata": {},
     "output_type": "execute_result"
    }
   ],
   "source": [
    "data = pd.read_csv('./BankNote_Authentication.csv')\n",
    "data.head()"
   ]
  },
  {
   "cell_type": "code",
   "execution_count": 114,
   "metadata": {},
   "outputs": [],
   "source": [
    "from sklearn.model_selection import train_test_split"
   ]
  },
  {
   "cell_type": "code",
   "execution_count": 115,
   "metadata": {},
   "outputs": [],
   "source": [
    "X=data.iloc[:,:-1]\n",
    "Y=data.iloc[:,-1]"
   ]
  },
  {
   "cell_type": "code",
   "execution_count": 116,
   "metadata": {},
   "outputs": [],
   "source": [
    "X_train,X_test,Y_train,Y_test = train_test_split(X,Y,test_size=0.3)"
   ]
  },
  {
   "cell_type": "code",
   "execution_count": 117,
   "metadata": {},
   "outputs": [
    {
     "data": {
      "text/plain": [
       "RandomForestClassifier()"
      ]
     },
     "execution_count": 117,
     "metadata": {},
     "output_type": "execute_result"
    }
   ],
   "source": [
    "from sklearn.ensemble import RandomForestClassifier\n",
    "classifier = RandomForestClassifier()\n",
    "classifier.fit(X_train,Y_train)"
   ]
  },
  {
   "cell_type": "code",
   "execution_count": 118,
   "metadata": {},
   "outputs": [
    {
     "name": "stdout",
     "output_type": "stream",
     "text": [
      "Accuracy_score (for Test) =  0.9927184466019418\n",
      "Accuracy score (for Train) =  0.5114583333333333\n"
     ]
    }
   ],
   "source": [
    "Y_test_pred = classifier.predict(X_test)\n",
    "from sklearn.metrics import accuracy_score\n",
    "print(\"Accuracy_score (for Test) = \", accuracy_score(Y_test,Y_test_pred))\n",
    "print(\"Accuracy score (for Train) = \",accuracy_score(Y_train,Y_train_pred))"
   ]
  },
  {
   "cell_type": "markdown",
   "metadata": {},
   "source": [
    "### We have to use DT for visualizing the tree, because RF is set of trees and hence can't be visualized"
   ]
  },
  {
   "cell_type": "code",
   "execution_count": 119,
   "metadata": {},
   "outputs": [
    {
     "data": {
      "text/plain": [
       "DecisionTreeClassifier()"
      ]
     },
     "execution_count": 119,
     "metadata": {},
     "output_type": "execute_result"
    }
   ],
   "source": [
    "from sklearn.tree import DecisionTreeClassifier\n",
    "\n",
    "dtree = DecisionTreeClassifier()\n",
    "dtree.fit(X_train,Y_train)"
   ]
  },
  {
   "cell_type": "markdown",
   "metadata": {},
   "source": [
    "### Hyperparameter tuning"
   ]
  },
  {
   "cell_type": "code",
   "execution_count": 120,
   "metadata": {},
   "outputs": [],
   "source": [
    "#!pip install pydotplus\n",
    "#!pip install graphviz\n",
    "#!pip install opencv-python"
   ]
  },
  {
   "cell_type": "code",
   "execution_count": 121,
   "metadata": {},
   "outputs": [],
   "source": [
    "### Let's generate the tree\n",
    "from graphviz import Source\n",
    "from IPython.display import display\n",
    "from sklearn.tree import export_graphviz\n",
    "export_graphviz(dtree,'tree.dot',feature_names=X_train.columns)\n"
   ]
  },
  {
   "cell_type": "code",
   "execution_count": 122,
   "metadata": {},
   "outputs": [
    {
     "data": {
      "text/plain": [
       "<matplotlib.image.AxesImage at 0x7ffb227d82b0>"
      ]
     },
     "execution_count": 122,
     "metadata": {},
     "output_type": "execute_result"
    },
    {
     "data": {
      "image/png": "[encoded data removed]",
      "text/plain": [
       "<Figure size 720x720 with 1 Axes>"
      ]
     },
     "metadata": {
      "needs_background": "light"
     },
     "output_type": "display_data"
    }
   ],
   "source": [
    "### Let's visualize the tree:\n",
    "import matplotlib.pyplot as plt\n",
    "import cv2\n",
    "\n",
    "img = cv2.imread('tree.png')\n",
    "plt.figure(figsize=(10,10))\n",
    "plt.imshow(img)"
   ]
  },
  {
   "cell_type": "markdown",
   "metadata": {},
   "source": [
    "#### Looking at the tree above, we can say that the depth of the tree can be 4-5 rather than reaching till leaf node."
   ]
  },
  {
   "cell_type": "code",
   "execution_count": 123,
   "metadata": {},
   "outputs": [],
   "source": [
    "from sklearn.model_selection import RandomizedSearchCV"
   ]
  },
  {
   "cell_type": "code",
   "execution_count": 124,
   "metadata": {},
   "outputs": [],
   "source": [
    "RandomForestClassifier()\n",
    "\n",
    "n_estimators = [int(i) for i in np.linspace(100,1200,12)]\n",
    "\n",
    "max_depth = [int(x) for x in np.linspace(5,30,6)]\n",
    "\n",
    "min_samples_split = [int(x) for x in np.linspace(1,30,5)]\n",
    "\n",
    "min_samples_leaf = [1,3,5,7,9,11,13,15]\n",
    "\n",
    "params = {\n",
    "    \"n_estimators\":n_estimators,\n",
    "    \"max_depth\":max_depth,\n",
    "    \"min_samples_split\":min_samples_split,\n",
    "    \"min_samples_leaf\":min_samples_leaf,\n",
    "    \"max_features\":['auto','sqrt']\n",
    "}\n",
    "\n",
    "random_HP=RandomizedSearchCV(classifier,param_distributions=params,cv=5,verbose=2)"
   ]
  },
  {
   "cell_type": "code",
   "execution_count": 125,
   "metadata": {},
   "outputs": [
    {
     "name": "stdout",
     "output_type": "stream",
     "text": [
      "Fitting 5 folds for each of 10 candidates, totalling 50 fits\n",
      "[CV] n_estimators=200, min_samples_split=15, min_samples_leaf=7, max_features=auto, max_depth=20 \n"
     ]
    },
    {
     "name": "stderr",
     "output_type": "stream",
     "text": [
      "[Parallel(n_jobs=1)]: Using backend SequentialBackend with 1 concurrent workers.\n"
     ]
    },
    {
     "name": "stdout",
     "output_type": "stream",
     "text": [
      "[CV]  n_estimators=200, min_samples_split=15, min_samples_leaf=7, max_features=auto, max_depth=20, total=   0.3s\n",
      "[CV] n_estimators=200, min_samples_split=15, min_samples_leaf=7, max_features=auto, max_depth=20 \n"
     ]
    },
    {
     "name": "stderr",
     "output_type": "stream",
     "text": [
      "[Parallel(n_jobs=1)]: Done   1 out of   1 | elapsed:    0.3s remaining:    0.0s\n"
     ]
    },
    {
     "name": "stdout",
     "output_type": "stream",
     "text": [
      "[CV]  n_estimators=200, min_samples_split=15, min_samples_leaf=7, max_features=auto, max_depth=20, total=   0.3s\n",
      "[CV] n_estimators=200, min_samples_split=15, min_samples_leaf=7, max_features=auto, max_depth=20 \n",
      "[CV]  n_estimators=200, min_samples_split=15, min_samples_leaf=7, max_features=auto, max_depth=20, total=   0.3s\n",
      "[CV] n_estimators=200, min_samples_split=15, min_samples_leaf=7, max_features=auto, max_depth=20 \n",
      "[CV]  n_estimators=200, min_samples_split=15, min_samples_leaf=7, max_features=auto, max_depth=20, total=   0.3s\n",
      "[CV] n_estimators=200, min_samples_split=15, min_samples_leaf=7, max_features=auto, max_depth=20 \n",
      "[CV]  n_estimators=200, min_samples_split=15, min_samples_leaf=7, max_features=auto, max_depth=20, total=   0.3s\n",
      "[CV] n_estimators=600, min_samples_split=22, min_samples_leaf=9, max_features=auto, max_depth=20 \n",
      "[CV]  n_estimators=600, min_samples_split=22, min_samples_leaf=9, max_features=auto, max_depth=20, total=   0.8s\n",
      "[CV] n_estimators=600, min_samples_split=22, min_samples_leaf=9, max_features=auto, max_depth=20 \n",
      "[CV]  n_estimators=600, min_samples_split=22, min_samples_leaf=9, max_features=auto, max_depth=20, total=   0.8s\n",
      "[CV] n_estimators=600, min_samples_split=22, min_samples_leaf=9, max_features=auto, max_depth=20 \n",
      "[CV]  n_estimators=600, min_samples_split=22, min_samples_leaf=9, max_features=auto, max_depth=20, total=   0.8s\n",
      "[CV] n_estimators=600, min_samples_split=22, min_samples_leaf=9, max_features=auto, max_depth=20 \n",
      "[CV]  n_estimators=600, min_samples_split=22, min_samples_leaf=9, max_features=auto, max_depth=20, total=   0.8s\n",
      "[CV] n_estimators=600, min_samples_split=22, min_samples_leaf=9, max_features=auto, max_depth=20 \n",
      "[CV]  n_estimators=600, min_samples_split=22, min_samples_leaf=9, max_features=auto, max_depth=20, total=   0.8s\n",
      "[CV] n_estimators=400, min_samples_split=8, min_samples_leaf=1, max_features=auto, max_depth=25 \n",
      "[CV]  n_estimators=400, min_samples_split=8, min_samples_leaf=1, max_features=auto, max_depth=25, total=   0.5s\n",
      "[CV] n_estimators=400, min_samples_split=8, min_samples_leaf=1, max_features=auto, max_depth=25 \n",
      "[CV]  n_estimators=400, min_samples_split=8, min_samples_leaf=1, max_features=auto, max_depth=25, total=   0.5s\n",
      "[CV] n_estimators=400, min_samples_split=8, min_samples_leaf=1, max_features=auto, max_depth=25 \n",
      "[CV]  n_estimators=400, min_samples_split=8, min_samples_leaf=1, max_features=auto, max_depth=25, total=   0.5s\n",
      "[CV] n_estimators=400, min_samples_split=8, min_samples_leaf=1, max_features=auto, max_depth=25 \n",
      "[CV]  n_estimators=400, min_samples_split=8, min_samples_leaf=1, max_features=auto, max_depth=25, total=   0.5s\n",
      "[CV] n_estimators=400, min_samples_split=8, min_samples_leaf=1, max_features=auto, max_depth=25 \n",
      "[CV]  n_estimators=400, min_samples_split=8, min_samples_leaf=1, max_features=auto, max_depth=25, total=   0.5s\n",
      "[CV] n_estimators=500, min_samples_split=15, min_samples_leaf=13, max_features=sqrt, max_depth=20 \n",
      "[CV]  n_estimators=500, min_samples_split=15, min_samples_leaf=13, max_features=sqrt, max_depth=20, total=   0.6s\n",
      "[CV] n_estimators=500, min_samples_split=15, min_samples_leaf=13, max_features=sqrt, max_depth=20 \n",
      "[CV]  n_estimators=500, min_samples_split=15, min_samples_leaf=13, max_features=sqrt, max_depth=20, total=   0.6s\n",
      "[CV] n_estimators=500, min_samples_split=15, min_samples_leaf=13, max_features=sqrt, max_depth=20 \n",
      "[CV]  n_estimators=500, min_samples_split=15, min_samples_leaf=13, max_features=sqrt, max_depth=20, total=   0.7s\n",
      "[CV] n_estimators=500, min_samples_split=15, min_samples_leaf=13, max_features=sqrt, max_depth=20 \n",
      "[CV]  n_estimators=500, min_samples_split=15, min_samples_leaf=13, max_features=sqrt, max_depth=20, total=   0.6s\n",
      "[CV] n_estimators=500, min_samples_split=15, min_samples_leaf=13, max_features=sqrt, max_depth=20 \n",
      "[CV]  n_estimators=500, min_samples_split=15, min_samples_leaf=13, max_features=sqrt, max_depth=20, total=   0.6s\n",
      "[CV] n_estimators=600, min_samples_split=15, min_samples_leaf=13, max_features=auto, max_depth=20 \n",
      "[CV]  n_estimators=600, min_samples_split=15, min_samples_leaf=13, max_features=auto, max_depth=20, total=   0.8s\n",
      "[CV] n_estimators=600, min_samples_split=15, min_samples_leaf=13, max_features=auto, max_depth=20 \n",
      "[CV]  n_estimators=600, min_samples_split=15, min_samples_leaf=13, max_features=auto, max_depth=20, total=   0.8s\n",
      "[CV] n_estimators=600, min_samples_split=15, min_samples_leaf=13, max_features=auto, max_depth=20 \n",
      "[CV]  n_estimators=600, min_samples_split=15, min_samples_leaf=13, max_features=auto, max_depth=20, total=   0.8s\n",
      "[CV] n_estimators=600, min_samples_split=15, min_samples_leaf=13, max_features=auto, max_depth=20 \n",
      "[CV]  n_estimators=600, min_samples_split=15, min_samples_leaf=13, max_features=auto, max_depth=20, total=   0.8s\n",
      "[CV] n_estimators=600, min_samples_split=15, min_samples_leaf=13, max_features=auto, max_depth=20 \n",
      "[CV]  n_estimators=600, min_samples_split=15, min_samples_leaf=13, max_features=auto, max_depth=20, total=   0.8s\n",
      "[CV] n_estimators=1000, min_samples_split=1, min_samples_leaf=11, max_features=sqrt, max_depth=30 \n"
     ]
    },
    {
     "name": "stderr",
     "output_type": "stream",
     "text": [
      "/opt/anaconda3/envs/Live_Projects/lib/python3.6/site-packages/sklearn/model_selection/_validation.py:552: FitFailedWarning: Estimator fit failed. The score on this train-test partition for these parameters will be set to nan. Details: \n",
      "Traceback (most recent call last):\n",
      "  File \"/opt/anaconda3/envs/Live_Projects/lib/python3.6/site-packages/sklearn/model_selection/_validation.py\", line 531, in _fit_and_score\n",
      "    estimator.fit(X_train, y_train, **fit_params)\n",
      "  File \"/opt/anaconda3/envs/Live_Projects/lib/python3.6/site-packages/sklearn/ensemble/_forest.py\", line 392, in fit\n",
      "    for i, t in enumerate(trees))\n",
      "  File \"/opt/anaconda3/envs/Live_Projects/lib/python3.6/site-packages/joblib/parallel.py\", line 1029, in __call__\n",
      "    if self.dispatch_one_batch(iterator):\n",
      "  File \"/opt/anaconda3/envs/Live_Projects/lib/python3.6/site-packages/joblib/parallel.py\", line 847, in dispatch_one_batch\n",
      "    self._dispatch(tasks)\n",
      "  File \"/opt/anaconda3/envs/Live_Projects/lib/python3.6/site-packages/joblib/parallel.py\", line 765, in _dispatch\n",
      "    job = self._backend.apply_async(batch, callback=cb)\n",
      "  File \"/opt/anaconda3/envs/Live_Projects/lib/python3.6/site-packages/joblib/_parallel_backends.py\", line 208, in apply_async\n",
      "    result = ImmediateResult(func)\n",
      "  File \"/opt/anaconda3/envs/Live_Projects/lib/python3.6/site-packages/joblib/_parallel_backends.py\", line 572, in __init__\n",
      "    self.results = batch()\n",
      "  File \"/opt/anaconda3/envs/Live_Projects/lib/python3.6/site-packages/joblib/parallel.py\", line 253, in __call__\n",
      "    for func, args, kwargs in self.items]\n",
      "  File \"/opt/anaconda3/envs/Live_Projects/lib/python3.6/site-packages/joblib/parallel.py\", line 253, in <listcomp>\n",
      "    for func, args, kwargs in self.items]\n",
      "  File \"/opt/anaconda3/envs/Live_Projects/lib/python3.6/site-packages/sklearn/ensemble/_forest.py\", line 168, in _parallel_build_trees\n",
      "    tree.fit(X, y, sample_weight=curr_sample_weight, check_input=False)\n",
      "  File \"/opt/anaconda3/envs/Live_Projects/lib/python3.6/site-packages/sklearn/tree/_classes.py\", line 894, in fit\n",
      "    X_idx_sorted=X_idx_sorted)\n",
      "  File \"/opt/anaconda3/envs/Live_Projects/lib/python3.6/site-packages/sklearn/tree/_classes.py\", line 231, in fit\n",
      "    % self.min_samples_split)\n",
      "ValueError: min_samples_split must be an integer greater than 1 or a float in (0.0, 1.0]; got the integer 1\n",
      "\n",
      "  FitFailedWarning)\n"
     ]
    },
    {
     "name": "stdout",
     "output_type": "stream",
     "text": [
      "[CV]  n_estimators=1000, min_samples_split=1, min_samples_leaf=11, max_features=sqrt, max_depth=30, total=   0.3s\n",
      "[CV] n_estimators=1000, min_samples_split=1, min_samples_leaf=11, max_features=sqrt, max_depth=30 \n"
     ]
    },
    {
     "name": "stderr",
     "output_type": "stream",
     "text": [
      "/opt/anaconda3/envs/Live_Projects/lib/python3.6/site-packages/sklearn/model_selection/_validation.py:552: FitFailedWarning: Estimator fit failed. The score on this train-test partition for these parameters will be set to nan. Details: \n",
      "Traceback (most recent call last):\n",
      "  File \"/opt/anaconda3/envs/Live_Projects/lib/python3.6/site-packages/sklearn/model_selection/_validation.py\", line 531, in _fit_and_score\n",
      "    estimator.fit(X_train, y_train, **fit_params)\n",
      "  File \"/opt/anaconda3/envs/Live_Projects/lib/python3.6/site-packages/sklearn/ensemble/_forest.py\", line 392, in fit\n",
      "    for i, t in enumerate(trees))\n",
      "  File \"/opt/anaconda3/envs/Live_Projects/lib/python3.6/site-packages/joblib/parallel.py\", line 1029, in __call__\n",
      "    if self.dispatch_one_batch(iterator):\n",
      "  File \"/opt/anaconda3/envs/Live_Projects/lib/python3.6/site-packages/joblib/parallel.py\", line 847, in dispatch_one_batch\n",
      "    self._dispatch(tasks)\n",
      "  File \"/opt/anaconda3/envs/Live_Projects/lib/python3.6/site-packages/joblib/parallel.py\", line 765, in _dispatch\n",
      "    job = self._backend.apply_async(batch, callback=cb)\n",
      "  File \"/opt/anaconda3/envs/Live_Projects/lib/python3.6/site-packages/joblib/_parallel_backends.py\", line 208, in apply_async\n",
      "    result = ImmediateResult(func)\n",
      "  File \"/opt/anaconda3/envs/Live_Projects/lib/python3.6/site-packages/joblib/_parallel_backends.py\", line 572, in __init__\n",
      "    self.results = batch()\n",
      "  File \"/opt/anaconda3/envs/Live_Projects/lib/python3.6/site-packages/joblib/parallel.py\", line 253, in __call__\n",
      "    for func, args, kwargs in self.items]\n",
      "  File \"/opt/anaconda3/envs/Live_Projects/lib/python3.6/site-packages/joblib/parallel.py\", line 253, in <listcomp>\n",
      "    for func, args, kwargs in self.items]\n",
      "  File \"/opt/anaconda3/envs/Live_Projects/lib/python3.6/site-packages/sklearn/ensemble/_forest.py\", line 168, in _parallel_build_trees\n",
      "    tree.fit(X, y, sample_weight=curr_sample_weight, check_input=False)\n",
      "  File \"/opt/anaconda3/envs/Live_Projects/lib/python3.6/site-packages/sklearn/tree/_classes.py\", line 894, in fit\n",
      "    X_idx_sorted=X_idx_sorted)\n",
      "  File \"/opt/anaconda3/envs/Live_Projects/lib/python3.6/site-packages/sklearn/tree/_classes.py\", line 231, in fit\n",
      "    % self.min_samples_split)\n",
      "ValueError: min_samples_split must be an integer greater than 1 or a float in (0.0, 1.0]; got the integer 1\n",
      "\n",
      "  FitFailedWarning)\n"
     ]
    },
    {
     "name": "stdout",
     "output_type": "stream",
     "text": [
      "[CV]  n_estimators=1000, min_samples_split=1, min_samples_leaf=11, max_features=sqrt, max_depth=30, total=   0.4s\n",
      "[CV] n_estimators=1000, min_samples_split=1, min_samples_leaf=11, max_features=sqrt, max_depth=30 \n"
     ]
    },
    {
     "name": "stderr",
     "output_type": "stream",
     "text": [
      "/opt/anaconda3/envs/Live_Projects/lib/python3.6/site-packages/sklearn/model_selection/_validation.py:552: FitFailedWarning: Estimator fit failed. The score on this train-test partition for these parameters will be set to nan. Details: \n",
      "Traceback (most recent call last):\n",
      "  File \"/opt/anaconda3/envs/Live_Projects/lib/python3.6/site-packages/sklearn/model_selection/_validation.py\", line 531, in _fit_and_score\n",
      "    estimator.fit(X_train, y_train, **fit_params)\n",
      "  File \"/opt/anaconda3/envs/Live_Projects/lib/python3.6/site-packages/sklearn/ensemble/_forest.py\", line 392, in fit\n",
      "    for i, t in enumerate(trees))\n",
      "  File \"/opt/anaconda3/envs/Live_Projects/lib/python3.6/site-packages/joblib/parallel.py\", line 1029, in __call__\n",
      "    if self.dispatch_one_batch(iterator):\n",
      "  File \"/opt/anaconda3/envs/Live_Projects/lib/python3.6/site-packages/joblib/parallel.py\", line 847, in dispatch_one_batch\n",
      "    self._dispatch(tasks)\n",
      "  File \"/opt/anaconda3/envs/Live_Projects/lib/python3.6/site-packages/joblib/parallel.py\", line 765, in _dispatch\n",
      "    job = self._backend.apply_async(batch, callback=cb)\n",
      "  File \"/opt/anaconda3/envs/Live_Projects/lib/python3.6/site-packages/joblib/_parallel_backends.py\", line 208, in apply_async\n",
      "    result = ImmediateResult(func)\n",
      "  File \"/opt/anaconda3/envs/Live_Projects/lib/python3.6/site-packages/joblib/_parallel_backends.py\", line 572, in __init__\n",
      "    self.results = batch()\n",
      "  File \"/opt/anaconda3/envs/Live_Projects/lib/python3.6/site-packages/joblib/parallel.py\", line 253, in __call__\n",
      "    for func, args, kwargs in self.items]\n",
      "  File \"/opt/anaconda3/envs/Live_Projects/lib/python3.6/site-packages/joblib/parallel.py\", line 253, in <listcomp>\n",
      "    for func, args, kwargs in self.items]\n",
      "  File \"/opt/anaconda3/envs/Live_Projects/lib/python3.6/site-packages/sklearn/ensemble/_forest.py\", line 168, in _parallel_build_trees\n",
      "    tree.fit(X, y, sample_weight=curr_sample_weight, check_input=False)\n",
      "  File \"/opt/anaconda3/envs/Live_Projects/lib/python3.6/site-packages/sklearn/tree/_classes.py\", line 894, in fit\n",
      "    X_idx_sorted=X_idx_sorted)\n",
      "  File \"/opt/anaconda3/envs/Live_Projects/lib/python3.6/site-packages/sklearn/tree/_classes.py\", line 231, in fit\n",
      "    % self.min_samples_split)\n",
      "ValueError: min_samples_split must be an integer greater than 1 or a float in (0.0, 1.0]; got the integer 1\n",
      "\n",
      "  FitFailedWarning)\n"
     ]
    },
    {
     "name": "stdout",
     "output_type": "stream",
     "text": [
      "[CV]  n_estimators=1000, min_samples_split=1, min_samples_leaf=11, max_features=sqrt, max_depth=30, total=   0.4s\n",
      "[CV] n_estimators=1000, min_samples_split=1, min_samples_leaf=11, max_features=sqrt, max_depth=30 \n"
     ]
    },
    {
     "name": "stderr",
     "output_type": "stream",
     "text": [
      "/opt/anaconda3/envs/Live_Projects/lib/python3.6/site-packages/sklearn/model_selection/_validation.py:552: FitFailedWarning: Estimator fit failed. The score on this train-test partition for these parameters will be set to nan. Details: \n",
      "Traceback (most recent call last):\n",
      "  File \"/opt/anaconda3/envs/Live_Projects/lib/python3.6/site-packages/sklearn/model_selection/_validation.py\", line 531, in _fit_and_score\n",
      "    estimator.fit(X_train, y_train, **fit_params)\n",
      "  File \"/opt/anaconda3/envs/Live_Projects/lib/python3.6/site-packages/sklearn/ensemble/_forest.py\", line 392, in fit\n",
      "    for i, t in enumerate(trees))\n",
      "  File \"/opt/anaconda3/envs/Live_Projects/lib/python3.6/site-packages/joblib/parallel.py\", line 1029, in __call__\n",
      "    if self.dispatch_one_batch(iterator):\n",
      "  File \"/opt/anaconda3/envs/Live_Projects/lib/python3.6/site-packages/joblib/parallel.py\", line 847, in dispatch_one_batch\n",
      "    self._dispatch(tasks)\n",
      "  File \"/opt/anaconda3/envs/Live_Projects/lib/python3.6/site-packages/joblib/parallel.py\", line 765, in _dispatch\n",
      "    job = self._backend.apply_async(batch, callback=cb)\n",
      "  File \"/opt/anaconda3/envs/Live_Projects/lib/python3.6/site-packages/joblib/_parallel_backends.py\", line 208, in apply_async\n",
      "    result = ImmediateResult(func)\n",
      "  File \"/opt/anaconda3/envs/Live_Projects/lib/python3.6/site-packages/joblib/_parallel_backends.py\", line 572, in __init__\n",
      "    self.results = batch()\n",
      "  File \"/opt/anaconda3/envs/Live_Projects/lib/python3.6/site-packages/joblib/parallel.py\", line 253, in __call__\n",
      "    for func, args, kwargs in self.items]\n",
      "  File \"/opt/anaconda3/envs/Live_Projects/lib/python3.6/site-packages/joblib/parallel.py\", line 253, in <listcomp>\n",
      "    for func, args, kwargs in self.items]\n",
      "  File \"/opt/anaconda3/envs/Live_Projects/lib/python3.6/site-packages/sklearn/ensemble/_forest.py\", line 168, in _parallel_build_trees\n",
      "    tree.fit(X, y, sample_weight=curr_sample_weight, check_input=False)\n",
      "  File \"/opt/anaconda3/envs/Live_Projects/lib/python3.6/site-packages/sklearn/tree/_classes.py\", line 894, in fit\n",
      "    X_idx_sorted=X_idx_sorted)\n",
      "  File \"/opt/anaconda3/envs/Live_Projects/lib/python3.6/site-packages/sklearn/tree/_classes.py\", line 231, in fit\n",
      "    % self.min_samples_split)\n",
      "ValueError: min_samples_split must be an integer greater than 1 or a float in (0.0, 1.0]; got the integer 1\n",
      "\n",
      "  FitFailedWarning)\n"
     ]
    },
    {
     "name": "stdout",
     "output_type": "stream",
     "text": [
      "[CV]  n_estimators=1000, min_samples_split=1, min_samples_leaf=11, max_features=sqrt, max_depth=30, total=   0.3s\n",
      "[CV] n_estimators=1000, min_samples_split=1, min_samples_leaf=11, max_features=sqrt, max_depth=30 \n"
     ]
    },
    {
     "name": "stderr",
     "output_type": "stream",
     "text": [
      "/opt/anaconda3/envs/Live_Projects/lib/python3.6/site-packages/sklearn/model_selection/_validation.py:552: FitFailedWarning: Estimator fit failed. The score on this train-test partition for these parameters will be set to nan. Details: \n",
      "Traceback (most recent call last):\n",
      "  File \"/opt/anaconda3/envs/Live_Projects/lib/python3.6/site-packages/sklearn/model_selection/_validation.py\", line 531, in _fit_and_score\n",
      "    estimator.fit(X_train, y_train, **fit_params)\n",
      "  File \"/opt/anaconda3/envs/Live_Projects/lib/python3.6/site-packages/sklearn/ensemble/_forest.py\", line 392, in fit\n",
      "    for i, t in enumerate(trees))\n",
      "  File \"/opt/anaconda3/envs/Live_Projects/lib/python3.6/site-packages/joblib/parallel.py\", line 1029, in __call__\n",
      "    if self.dispatch_one_batch(iterator):\n",
      "  File \"/opt/anaconda3/envs/Live_Projects/lib/python3.6/site-packages/joblib/parallel.py\", line 847, in dispatch_one_batch\n",
      "    self._dispatch(tasks)\n",
      "  File \"/opt/anaconda3/envs/Live_Projects/lib/python3.6/site-packages/joblib/parallel.py\", line 765, in _dispatch\n",
      "    job = self._backend.apply_async(batch, callback=cb)\n",
      "  File \"/opt/anaconda3/envs/Live_Projects/lib/python3.6/site-packages/joblib/_parallel_backends.py\", line 208, in apply_async\n",
      "    result = ImmediateResult(func)\n",
      "  File \"/opt/anaconda3/envs/Live_Projects/lib/python3.6/site-packages/joblib/_parallel_backends.py\", line 572, in __init__\n",
      "    self.results = batch()\n",
      "  File \"/opt/anaconda3/envs/Live_Projects/lib/python3.6/site-packages/joblib/parallel.py\", line 253, in __call__\n",
      "    for func, args, kwargs in self.items]\n",
      "  File \"/opt/anaconda3/envs/Live_Projects/lib/python3.6/site-packages/joblib/parallel.py\", line 253, in <listcomp>\n",
      "    for func, args, kwargs in self.items]\n",
      "  File \"/opt/anaconda3/envs/Live_Projects/lib/python3.6/site-packages/sklearn/ensemble/_forest.py\", line 168, in _parallel_build_trees\n",
      "    tree.fit(X, y, sample_weight=curr_sample_weight, check_input=False)\n",
      "  File \"/opt/anaconda3/envs/Live_Projects/lib/python3.6/site-packages/sklearn/tree/_classes.py\", line 894, in fit\n",
      "    X_idx_sorted=X_idx_sorted)\n",
      "  File \"/opt/anaconda3/envs/Live_Projects/lib/python3.6/site-packages/sklearn/tree/_classes.py\", line 231, in fit\n",
      "    % self.min_samples_split)\n",
      "ValueError: min_samples_split must be an integer greater than 1 or a float in (0.0, 1.0]; got the integer 1\n",
      "\n",
      "  FitFailedWarning)\n"
     ]
    },
    {
     "name": "stdout",
     "output_type": "stream",
     "text": [
      "[CV]  n_estimators=1000, min_samples_split=1, min_samples_leaf=11, max_features=sqrt, max_depth=30, total=   0.4s\n",
      "[CV] n_estimators=200, min_samples_split=30, min_samples_leaf=1, max_features=sqrt, max_depth=15 \n",
      "[CV]  n_estimators=200, min_samples_split=30, min_samples_leaf=1, max_features=sqrt, max_depth=15, total=   0.3s\n",
      "[CV] n_estimators=200, min_samples_split=30, min_samples_leaf=1, max_features=sqrt, max_depth=15 \n",
      "[CV]  n_estimators=200, min_samples_split=30, min_samples_leaf=1, max_features=sqrt, max_depth=15, total=   0.3s\n",
      "[CV] n_estimators=200, min_samples_split=30, min_samples_leaf=1, max_features=sqrt, max_depth=15 \n",
      "[CV]  n_estimators=200, min_samples_split=30, min_samples_leaf=1, max_features=sqrt, max_depth=15, total=   0.3s\n",
      "[CV] n_estimators=200, min_samples_split=30, min_samples_leaf=1, max_features=sqrt, max_depth=15 \n",
      "[CV]  n_estimators=200, min_samples_split=30, min_samples_leaf=1, max_features=sqrt, max_depth=15, total=   0.3s\n",
      "[CV] n_estimators=200, min_samples_split=30, min_samples_leaf=1, max_features=sqrt, max_depth=15 \n",
      "[CV]  n_estimators=200, min_samples_split=30, min_samples_leaf=1, max_features=sqrt, max_depth=15, total=   0.3s\n",
      "[CV] n_estimators=500, min_samples_split=30, min_samples_leaf=13, max_features=auto, max_depth=5 \n",
      "[CV]  n_estimators=500, min_samples_split=30, min_samples_leaf=13, max_features=auto, max_depth=5, total=   0.6s\n",
      "[CV] n_estimators=500, min_samples_split=30, min_samples_leaf=13, max_features=auto, max_depth=5 \n",
      "[CV]  n_estimators=500, min_samples_split=30, min_samples_leaf=13, max_features=auto, max_depth=5, total=   0.6s\n",
      "[CV] n_estimators=500, min_samples_split=30, min_samples_leaf=13, max_features=auto, max_depth=5 \n",
      "[CV]  n_estimators=500, min_samples_split=30, min_samples_leaf=13, max_features=auto, max_depth=5, total=   0.6s\n",
      "[CV] n_estimators=500, min_samples_split=30, min_samples_leaf=13, max_features=auto, max_depth=5 \n",
      "[CV]  n_estimators=500, min_samples_split=30, min_samples_leaf=13, max_features=auto, max_depth=5, total=   0.6s\n",
      "[CV] n_estimators=500, min_samples_split=30, min_samples_leaf=13, max_features=auto, max_depth=5 \n",
      "[CV]  n_estimators=500, min_samples_split=30, min_samples_leaf=13, max_features=auto, max_depth=5, total=   0.7s\n",
      "[CV] n_estimators=500, min_samples_split=22, min_samples_leaf=13, max_features=auto, max_depth=30 \n",
      "[CV]  n_estimators=500, min_samples_split=22, min_samples_leaf=13, max_features=auto, max_depth=30, total=   0.6s\n",
      "[CV] n_estimators=500, min_samples_split=22, min_samples_leaf=13, max_features=auto, max_depth=30 \n",
      "[CV]  n_estimators=500, min_samples_split=22, min_samples_leaf=13, max_features=auto, max_depth=30, total=   0.6s\n",
      "[CV] n_estimators=500, min_samples_split=22, min_samples_leaf=13, max_features=auto, max_depth=30 \n",
      "[CV]  n_estimators=500, min_samples_split=22, min_samples_leaf=13, max_features=auto, max_depth=30, total=   0.7s\n",
      "[CV] n_estimators=500, min_samples_split=22, min_samples_leaf=13, max_features=auto, max_depth=30 \n",
      "[CV]  n_estimators=500, min_samples_split=22, min_samples_leaf=13, max_features=auto, max_depth=30, total=   0.7s\n",
      "[CV] n_estimators=500, min_samples_split=22, min_samples_leaf=13, max_features=auto, max_depth=30 \n",
      "[CV]  n_estimators=500, min_samples_split=22, min_samples_leaf=13, max_features=auto, max_depth=30, total=   0.7s\n",
      "[CV] n_estimators=800, min_samples_split=22, min_samples_leaf=7, max_features=sqrt, max_depth=10 \n",
      "[CV]  n_estimators=800, min_samples_split=22, min_samples_leaf=7, max_features=sqrt, max_depth=10, total=   1.0s\n",
      "[CV] n_estimators=800, min_samples_split=22, min_samples_leaf=7, max_features=sqrt, max_depth=10 \n",
      "[CV]  n_estimators=800, min_samples_split=22, min_samples_leaf=7, max_features=sqrt, max_depth=10, total=   1.0s\n",
      "[CV] n_estimators=800, min_samples_split=22, min_samples_leaf=7, max_features=sqrt, max_depth=10 \n",
      "[CV]  n_estimators=800, min_samples_split=22, min_samples_leaf=7, max_features=sqrt, max_depth=10, total=   1.1s\n",
      "[CV] n_estimators=800, min_samples_split=22, min_samples_leaf=7, max_features=sqrt, max_depth=10 \n",
      "[CV]  n_estimators=800, min_samples_split=22, min_samples_leaf=7, max_features=sqrt, max_depth=10, total=   1.1s\n",
      "[CV] n_estimators=800, min_samples_split=22, min_samples_leaf=7, max_features=sqrt, max_depth=10 \n",
      "[CV]  n_estimators=800, min_samples_split=22, min_samples_leaf=7, max_features=sqrt, max_depth=10, total=   1.1s\n"
     ]
    },
    {
     "name": "stderr",
     "output_type": "stream",
     "text": [
      "[Parallel(n_jobs=1)]: Done  50 out of  50 | elapsed:   30.0s finished\n"
     ]
    },
    {
     "data": {
      "text/plain": [
       "RandomizedSearchCV(cv=5, estimator=RandomForestClassifier(),\n",
       "                   param_distributions={'max_depth': [5, 10, 15, 20, 25, 30],\n",
       "                                        'max_features': ['auto', 'sqrt'],\n",
       "                                        'min_samples_leaf': [1, 3, 5, 7, 9, 11,\n",
       "                                                             13, 15],\n",
       "                                        'min_samples_split': [1, 8, 15, 22, 30],\n",
       "                                        'n_estimators': [100, 200, 300, 400,\n",
       "                                                         500, 600, 700, 800,\n",
       "                                                         900, 1000, 1100,\n",
       "                                                         1200]},\n",
       "                   verbose=2)"
      ]
     },
     "execution_count": 125,
     "metadata": {},
     "output_type": "execute_result"
    }
   ],
   "source": [
    "random_HP.fit(X_train,Y_train)"
   ]
  },
  {
   "cell_type": "code",
   "execution_count": 126,
   "metadata": {},
   "outputs": [
    {
     "data": {
      "text/plain": [
       "{'n_estimators': 400,\n",
       " 'min_samples_split': 8,\n",
       " 'min_samples_leaf': 1,\n",
       " 'max_features': 'auto',\n",
       " 'max_depth': 25}"
      ]
     },
     "execution_count": 126,
     "metadata": {},
     "output_type": "execute_result"
    }
   ],
   "source": [
    "random_HP.best_params_"
   ]
  },
  {
   "cell_type": "code",
   "execution_count": 127,
   "metadata": {},
   "outputs": [
    {
     "data": {
      "text/plain": [
       "0.9864583333333334"
      ]
     },
     "execution_count": 127,
     "metadata": {},
     "output_type": "execute_result"
    }
   ],
   "source": [
    "random_HP.best_score_"
   ]
  },
  {
   "cell_type": "code",
   "execution_count": 132,
   "metadata": {},
   "outputs": [
    {
     "data": {
      "text/plain": [
       "RandomForestClassifier(max_depth=25, min_samples_split=8, n_estimators=400)"
      ]
     },
     "execution_count": 132,
     "metadata": {},
     "output_type": "execute_result"
    }
   ],
   "source": [
    "classifier_tuned = RandomForestClassifier(n_estimators=400,min_samples_split=8,min_samples_leaf=1,max_features='auto',max_depth=25)\n",
    "classifier_tuned.fit(X_train,Y_train)"
   ]
  },
  {
   "cell_type": "code",
   "execution_count": 133,
   "metadata": {},
   "outputs": [],
   "source": [
    "Y_test_pred_tune = classifier_tuned.predict(X_test)\n",
    "Y_train_pred_tune = classifier_tuned.predict(X_train)"
   ]
  },
  {
   "cell_type": "code",
   "execution_count": 134,
   "metadata": {},
   "outputs": [
    {
     "data": {
      "text/plain": [
       "0.9927184466019418"
      ]
     },
     "execution_count": 134,
     "metadata": {},
     "output_type": "execute_result"
    }
   ],
   "source": [
    "from sklearn.metrics import accuracy_score\n",
    "accuracy_score(Y_test,Y_test_pred_tune)"
   ]
  },
  {
   "cell_type": "code",
   "execution_count": 135,
   "metadata": {},
   "outputs": [
    {
     "data": {
      "text/plain": [
       "1.0"
      ]
     },
     "execution_count": 135,
     "metadata": {},
     "output_type": "execute_result"
    }
   ],
   "source": [
    "accuracy_score(Y_train,Y_train_pred_tune)"
   ]
  },
  {
   "cell_type": "code",
   "execution_count": 138,
   "metadata": {},
   "outputs": [],
   "source": [
    "import pickle\n",
    "\n",
    "file = 'Bank_Note_Auth_Model_class.pkl'\n",
    "pickle.dump(classifier_tuned,open(file,'wb'))"
   ]
  },
  {
   "cell_type": "code",
   "execution_count": null,
   "metadata": {},
   "outputs": [],
   "source": []
  }
 ],
 "metadata": {
  "kernelspec": {
   "display_name": "Python 3",
   "language": "python",
   "name": "python3"
  },
  "language_info": {
   "codemirror_mode": {
    "name": "ipython",
    "version": 3
   },
   "file_extension": ".py",
   "mimetype": "text/x-python",
   "name": "python",
   "nbconvert_exporter": "python",
   "pygments_lexer": "ipython3",
   "version": "3.6.10"
  }
 },
 "nbformat": 4,
 "nbformat_minor": 4
}
