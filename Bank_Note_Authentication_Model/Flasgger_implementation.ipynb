{
 "cells": [
  {
   "cell_type": "code",
   "execution_count": 4,
   "metadata": {},
   "outputs": [],
   "source": [
    "from flask import Flask, request\n",
    "import pandas as pd\n",
    "import numpy as np\n",
    "import pickle\n",
    "import flasgger\n",
    "from flasgger import Swagger"
   ]
  },
  {
   "cell_type": "code",
   "execution_count": 5,
   "metadata": {},
   "outputs": [
    {
     "name": "stdout",
     "output_type": "stream",
     "text": [
      " * Serving Flask app \"__main__\" (lazy loading)\n",
      " * Environment: production\n",
      "\u001b[31m   WARNING: This is a development server. Do not use it in a production deployment.\u001b[0m\n",
      "\u001b[2m   Use a production WSGI server instead.\u001b[0m\n",
      " * Debug mode: off\n"
     ]
    },
    {
     "name": "stderr",
     "output_type": "stream",
     "text": [
      " * Running on http://127.0.0.1:5000/ (Press CTRL+C to quit)\n",
      "127.0.0.1 - - [01/Dec/2020 20:19:05] \"\u001b[32mGET /apidocs HTTP/1.1\u001b[0m\" 308 -\n",
      "127.0.0.1 - - [01/Dec/2020 20:19:05] \"\u001b[37mGET /apidocs/ HTTP/1.1\u001b[0m\" 200 -\n",
      "127.0.0.1 - - [01/Dec/2020 20:19:05] \"\u001b[37mGET /flasgger_static/swagger-ui-bundle.js HTTP/1.1\u001b[0m\" 200 -\n",
      "127.0.0.1 - - [01/Dec/2020 20:19:05] \"\u001b[37mGET /flasgger_static/lib/jquery.min.js HTTP/1.1\u001b[0m\" 200 -\n",
      "127.0.0.1 - - [01/Dec/2020 20:19:05] \"\u001b[37mGET /flasgger_static/swagger-ui.css HTTP/1.1\u001b[0m\" 200 -\n",
      "127.0.0.1 - - [01/Dec/2020 20:19:05] \"\u001b[37mGET /flasgger_static/swagger-ui-standalone-preset.js HTTP/1.1\u001b[0m\" 200 -\n",
      "127.0.0.1 - - [01/Dec/2020 20:19:06] \"\u001b[37mGET /apispec_1.json HTTP/1.1\u001b[0m\" 200 -\n",
      "127.0.0.1 - - [01/Dec/2020 20:19:06] \"\u001b[37mGET /flasgger_static/favicon-32x32.png HTTP/1.1\u001b[0m\" 200 -\n",
      "127.0.0.1 - - [01/Dec/2020 20:19:22] \"\u001b[37mGET /predict?variance=1&skewness=2&curtosis=3&entropy=4 HTTP/1.1\u001b[0m\" 200 -\n",
      "127.0.0.1 - - [01/Dec/2020 20:20:38] \"\u001b[37mGET /apidocs/ HTTP/1.1\u001b[0m\" 200 -\n",
      "127.0.0.1 - - [01/Dec/2020 20:20:38] \"\u001b[37mGET /apispec_1.json HTTP/1.1\u001b[0m\" 200 -\n"
     ]
    }
   ],
   "source": [
    "app=Flask(__name__)\n",
    "Swagger(app)\n",
    "\n",
    "pickle_file=open('Bank_Note_Auth_Model_class.pkl','rb')\n",
    "\n",
    "classifier = pickle.load(pickle_file)\n",
    "\n",
    "\"\"\" Flask way of using the Get and POST method : \n",
    "@app.route(\"/predict\")\n",
    "def predict_note_auth():\n",
    "    variance = request.args.get('variance')\n",
    "    skewness = request.args.get('skewness')\n",
    "    curtosis = request.args.get('curtosis')\n",
    "    entropy = request.args.get('entropy')\n",
    "    prediction = classifier.predict([[variance,skewness,curtosis,entropy]])\n",
    "    return \"The predicted values are : \" + str(prediction)\n",
    "\n",
    "@app.route(\"/predict_file\",methods=\"[POST]\")\n",
    "def predict_note_from_file():\n",
    "    df_test = pd.read_csv(request.files.get('file'))\n",
    "    prediction = classifier.predict(df_test)\n",
    "    return \"The predicted values from file are : \" + str(prediction)\n",
    "\n",
    "\"\"\"\n",
    "\n",
    "@app.route('/predict',methods=[\"Get\"])\n",
    "def predict_note():\n",
    "    \n",
    "    \"\"\" Let's authenticate the Bank Notes using this prediction Model\n",
    "    \n",
    "    ---\n",
    "    parameters:\n",
    "    - name: variance\n",
    "      in: query\n",
    "      type: number\n",
    "      required: true\n",
    "      \n",
    "    - name: skewness\n",
    "      in: query\n",
    "      type: number\n",
    "      required: true\n",
    "      \n",
    "    - name: curtosis\n",
    "      in: query\n",
    "      type: number\n",
    "      required: true\n",
    "      \n",
    "    - name: entropy\n",
    "      in: query\n",
    "      type: number\n",
    "      required: true\n",
    "    \n",
    "    responses:\n",
    "        200:\n",
    "            description: The output values\n",
    "    \"\"\"\n",
    "    \n",
    "    variance = request.args.get('variance')\n",
    "    skewness = request.args.get('skewness')\n",
    "    curtosis = request.args.get('curtosis')\n",
    "    entropy = request.args.get('entropy')\n",
    "    \n",
    "    prediction=classifier.predict([[variance,skewness,curtosis,entropy]])\n",
    "    return \"The predicted value is : \" + str(prediction)\n",
    "    \n",
    "\n",
    "@app.route('/predict-file',methods=[\"POST\"])\n",
    "def predict_note_using_file():\n",
    "    \n",
    "    \"\"\" Let's authenticate the Bank note using the csv file as input\n",
    "    \n",
    "    ---\n",
    "    \n",
    "    parameters:\n",
    "    \n",
    "        - name: file\n",
    "          in: formData\n",
    "          type: file\n",
    "          required: true\n",
    "        \n",
    "    responses:\n",
    "        200:\n",
    "            description: These are the output values\n",
    "        \n",
    "    \"\"\"\n",
    "    df_file = pd.read_csv(request.files.get(\"file\"))\n",
    "    prediction=classifier.predict(df_file)\n",
    "    \n",
    "    return \"Predicted values are : \" + str(prediction)\n",
    "\n",
    "if __name__ == \"__main__\":\n",
    "    app.run()"
   ]
  },
  {
   "cell_type": "markdown",
   "metadata": {},
   "source": [
    "### Since the above implementation was in swagger, we can use the following url to open the swagger UI in browser : http://127.0.0.1:5000/apidocs/ \n"
   ]
  },
  {
   "cell_type": "code",
   "execution_count": 3,
   "metadata": {},
   "outputs": [
    {
     "name": "stdout",
     "output_type": "stream",
     "text": [
      "Collecting flasgger\n",
      "  Using cached flasgger-0.9.5-py2.py3-none-any.whl (3.8 MB)\n",
      "Requirement already satisfied: Flask>=0.10 in /opt/anaconda3/envs/p36_shv_new/lib/python3.6/site-packages (from flasgger) (1.1.2)\n",
      "Requirement already satisfied: six>=1.10.0 in /opt/anaconda3/envs/p36_shv_new/lib/python3.6/site-packages (from flasgger) (1.15.0)\n",
      "Requirement already satisfied: PyYAML>=3.0 in /opt/anaconda3/envs/p36_shv_new/lib/python3.6/site-packages (from flasgger) (5.3.1)\n",
      "Requirement already satisfied: jsonschema>=3.0.1 in /opt/anaconda3/envs/p36_shv_new/lib/python3.6/site-packages (from flasgger) (3.2.0)\n",
      "Requirement already satisfied: mistune in /opt/anaconda3/envs/p36_shv_new/lib/python3.6/site-packages (from flasgger) (0.8.4)\n",
      "Requirement already satisfied: click>=5.1 in /opt/anaconda3/envs/p36_shv_new/lib/python3.6/site-packages (from Flask>=0.10->flasgger) (7.1.2)\n",
      "Requirement already satisfied: itsdangerous>=0.24 in /opt/anaconda3/envs/p36_shv_new/lib/python3.6/site-packages (from Flask>=0.10->flasgger) (1.1.0)\n",
      "Requirement already satisfied: Jinja2>=2.10.1 in /opt/anaconda3/envs/p36_shv_new/lib/python3.6/site-packages (from Flask>=0.10->flasgger) (2.11.2)\n",
      "Requirement already satisfied: Werkzeug>=0.15 in /opt/anaconda3/envs/p36_shv_new/lib/python3.6/site-packages (from Flask>=0.10->flasgger) (1.0.1)\n",
      "Requirement already satisfied: setuptools in /opt/anaconda3/envs/p36_shv_new/lib/python3.6/site-packages (from jsonschema>=3.0.1->flasgger) (49.2.0.post20200714)\n",
      "Requirement already satisfied: attrs>=17.4.0 in /opt/anaconda3/envs/p36_shv_new/lib/python3.6/site-packages (from jsonschema>=3.0.1->flasgger) (19.3.0)\n",
      "Requirement already satisfied: importlib-metadata; python_version < \"3.8\" in /opt/anaconda3/envs/p36_shv_new/lib/python3.6/site-packages (from jsonschema>=3.0.1->flasgger) (1.7.0)\n",
      "Requirement already satisfied: pyrsistent>=0.14.0 in /opt/anaconda3/envs/p36_shv_new/lib/python3.6/site-packages (from jsonschema>=3.0.1->flasgger) (0.16.0)\n",
      "Requirement already satisfied: MarkupSafe>=0.23 in /opt/anaconda3/envs/p36_shv_new/lib/python3.6/site-packages (from Jinja2>=2.10.1->Flask>=0.10->flasgger) (1.1.1)\n",
      "Requirement already satisfied: zipp>=0.5 in /opt/anaconda3/envs/p36_shv_new/lib/python3.6/site-packages (from importlib-metadata; python_version < \"3.8\"->jsonschema>=3.0.1->flasgger) (3.1.0)\n",
      "Installing collected packages: flasgger\n",
      "Successfully installed flasgger-0.9.5\n"
     ]
    }
   ],
   "source": [
    "#!pip install flasgger"
   ]
  },
  {
   "cell_type": "code",
   "execution_count": 11,
   "metadata": {},
   "outputs": [],
   "source": [
    "!pip freeze > requirements.txt"
   ]
  },
  {
   "cell_type": "code",
   "execution_count": null,
   "metadata": {},
   "outputs": [],
   "source": []
  }
 ],
 "metadata": {
  "kernelspec": {
   "display_name": "Python 3",
   "language": "python",
   "name": "python3"
  },
  "language_info": {
   "codemirror_mode": {
    "name": "ipython",
    "version": 3
   },
   "file_extension": ".py",
   "mimetype": "text/x-python",
   "name": "python",
   "nbconvert_exporter": "python",
   "pygments_lexer": "ipython3",
   "version": "3.6.10"
  }
 },
 "nbformat": 4,
 "nbformat_minor": 4
}
