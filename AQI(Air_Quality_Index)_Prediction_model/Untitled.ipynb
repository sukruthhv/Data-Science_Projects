{
 "cells": [
  {
   "cell_type": "markdown",
   "metadata": {},
   "source": [
    "Source :- https://en.tutiempo.net/climate/ws-432950.html \n",
    "\n",
    "(Krish Naik) Video playlist :- https://www.youtube.com/watch?v=CTu0qnuMxgA&list=PLZoTAELRMXVOFnfSwkB_uyr4FT-327noK"
   ]
  },
  {
   "cell_type": "code",
   "execution_count": 8,
   "metadata": {},
   "outputs": [],
   "source": [
    "import os\n",
    "import time\n",
    "import requests\n",
    "import sys"
   ]
  },
  {
   "cell_type": "code",
   "execution_count": 14,
   "metadata": {},
   "outputs": [],
   "source": [
    "def retrieve_html():\n",
    "    #Let's collect the weather data from 2013 to 2019\n",
    "    for year in range(2013,2019):\n",
    "        for month in range(1,13):\n",
    "            if(month<10): #We are using the if condition, because if you see the website, the condition 0{0} won't work for moths post 9, that is for month 10,11,12\n",
    "                url=\"https://en.tutiempo.net/climate/0{0}-{1}/ws-432950.html\".format(month,year)\n",
    "            else:\n",
    "                url=\"https://en.tutiempo.net/climate/{0}-{1}/ws-432950.html\".format(month,year) \n",
    "\n",
    "            text = requests.get(url)\n",
    "            text_utf=text.text.encode('utf=8')\n",
    "\n",
    "            if not os.path.exists(\"./Data/Html_Data/{}\".format(year)):\n",
    "                os.makedirs(\"./Data/Html_Data/{}\".format(year))\n",
    "\n",
    "            with open(\"./Data/Html_Data/{}/{}.html\".format(year,month),\"wb\") as output:\n",
    "                output.write(text_utf)\n",
    "\n",
    "            sys.stdout.flush()\n"
   ]
  },
  {
   "cell_type": "code",
   "execution_count": 15,
   "metadata": {},
   "outputs": [
    {
     "name": "stdout",
     "output_type": "stream",
     "text": [
      "CPU times: user 1.3 s, sys: 170 ms, total: 1.47 s\n",
      "Wall time: 55.1 s\n"
     ]
    }
   ],
   "source": [
    "%%time\n",
    "retrieve_html()"
   ]
  },
  {
   "cell_type": "markdown",
   "metadata": {},
   "source": []
  }
 ],
 "metadata": {
  "kernelspec": {
   "display_name": "Python 3",
   "language": "python",
   "name": "python3"
  },
  "language_info": {
   "codemirror_mode": {
    "name": "ipython",
    "version": 3
   },
   "file_extension": ".py",
   "mimetype": "text/x-python",
   "name": "python",
   "nbconvert_exporter": "python",
   "pygments_lexer": "ipython3",
   "version": "3.6.10"
  }
 },
 "nbformat": 4,
 "nbformat_minor": 4
}
